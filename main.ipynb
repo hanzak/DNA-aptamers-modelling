{
 "cells": [
  {
   "cell_type": "code",
   "execution_count": null,
   "metadata": {},
   "outputs": [],
   "source": [
    "# %pip install scikit-learn"
   ]
  },
  {
   "cell_type": "code",
   "execution_count": 60,
   "metadata": {},
   "outputs": [],
   "source": [
    "from nupack import *\n",
    "import random\n",
    "import numpy as np\n",
    "import pandas as pd\n",
    "\n",
    "# Generates the input data \n",
    "def generate_random_sequences(length, num_sequences):\n",
    "    bases = ['A', 'C', 'G', 'T']\n",
    "    sequences = []\n",
    "    \n",
    "    for _ in range(num_sequences):\n",
    "        sequence = ''.join(random.choice(bases) for _ in range(length))\n",
    "        sequences.append(sequence)\n",
    "    \n",
    "    return sequences\n",
    "\n",
    "def mfe_set(sequence_list):\n",
    "    \n",
    "    # Set the model\n",
    "    model1 = Model(material='dna', celsius=37)\n",
    "\n",
    "    mfe_results = []\n",
    "\n",
    "    # compute MFE\n",
    "    for sequence in sequence_list:\n",
    "        mfe_results.append(mfe([sequence], model=model1)[0].energy)\n",
    "\n",
    "    return mfe_results\n",
    "\n",
    "dataset_X = generate_random_sequences(20, 100000)\n",
    "dataset_Y = mfe_set(dataset_X)\n"
   ]
  },
  {
   "cell_type": "code",
   "execution_count": 61,
   "metadata": {},
   "outputs": [],
   "source": [
    "from sklearn.model_selection import train_test_split\n",
    "\n",
    "# transform the sequence for dataset_X into one-hot encoding\n",
    "def one_hot_encoding(sequence_list):\n",
    "    one_hot_list = []\n",
    "    for sequence in sequence_list:\n",
    "        one_hot = []\n",
    "        for base in sequence:\n",
    "            if base == 'A':\n",
    "                one_hot.append([1, 0, 0, 0])\n",
    "            elif base == 'C':\n",
    "                one_hot.append([0, 1, 0, 0])\n",
    "            elif base == 'G':\n",
    "                one_hot.append([0, 0, 1, 0])\n",
    "            elif base == 'T':\n",
    "                one_hot.append([0, 0, 0, 1])\n",
    "        one_hot_list.append(one_hot)\n",
    "    return one_hot_list\n",
    "\n"
   ]
  },
  {
   "cell_type": "code",
   "execution_count": 62,
   "metadata": {},
   "outputs": [],
   "source": [
    "# concat dataset_X and dataset_Y into a pd dataframe and output to csv. We have two csvs, one with the one-hot encoding and one without\n",
    "\n",
    "# one-hot encoding\n",
    "dataset_X_one_hot = one_hot_encoding(dataset_X)\n",
    "dataset_X_one_hot = np.array(dataset_X_one_hot)\n",
    "dataset_Y = np.array(dataset_Y)\n",
    "dataset_X_one_hot = dataset_X_one_hot.reshape(dataset_X_one_hot.shape[0], -1)\n",
    "dataset_X_one_hot = pd.DataFrame(dataset_X_one_hot)\n",
    "dataset_Y = pd.DataFrame(dataset_Y)\n",
    "dataset_X_one_hot['mfe'] = dataset_Y\n",
    "dataset_X_one_hot.to_csv('dataset_one_hot.csv', index=False)\n",
    "\n",
    "# without one-hot encoding\n",
    "dataset_X = pd.DataFrame(dataset_X)\n",
    "dataset_Y = pd.DataFrame(dataset_Y)\n",
    "dataset_X['mfe'] = dataset_Y\n",
    "dataset_X.to_csv('dataset.csv', index=False)\n"
   ]
  }
 ],
 "metadata": {
  "kernelspec": {
   "display_name": "Python 3 (ipykernel)",
   "language": "python",
   "name": "python3"
  },
  "language_info": {
   "codemirror_mode": {
    "name": "ipython",
    "version": 3
   },
   "file_extension": ".py",
   "mimetype": "text/x-python",
   "name": "python",
   "nbconvert_exporter": "python",
   "pygments_lexer": "ipython3",
   "version": "3.10.13"
  }
 },
 "nbformat": 4,
 "nbformat_minor": 2
}
