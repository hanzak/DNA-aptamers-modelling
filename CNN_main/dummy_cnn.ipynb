{
  "cells": [
    {
      "cell_type": "markdown",
      "source": [
        "Ce notebook montre une application du code utilisé pour entrainer nos CNN pour un dummy dataset composé de 10 valeurs d'entrainement et 10 valeurs de test.\n",
        "\n",
        "On charge tout d'abord les training set and testing set."
      ],
      "metadata": {
        "id": "-7zQPes5QCsG"
      }
    },
    {
      "cell_type": "code",
      "source": [
        "import pandas as pd\n",
        "\n",
        "train_data = pd.read_pickle('dummy_train.pkl')\n",
        "test_data = pd.read_pickle('dummy_test.pkl')\n",
        "\n",
        "print(f\"Train data ({len(train_data)}) : {train_data}\")\n",
        "print(f\"Test data ({len(test_data)}) : {test_data}\")"
      ],
      "metadata": {
        "colab": {
          "base_uri": "https://localhost:8080/"
        },
        "id": "vnKotSwUPkin",
        "outputId": "bcfee612-b7eb-47c9-ebe4-2a8d42a4eec8"
      },
      "execution_count": 6,
      "outputs": [
        {
          "output_type": "stream",
          "name": "stdout",
          "text": [
            "Train data (10) : [('AGCTATGCGC', -0.32305049896240234, '.((.....))', 1), ('GGCCCTCGGC', -1.3487296104431152, '.(((...)))', 1), ('CTAAGTAATT', -0.5292420387268066, '..((....))', 1), ('ATACGAAGTC', -1.2987360954284668, '..((...)).', 1), ('CGTTCGCGGA', -0.4556596279144287, '((....))..', 1), ('CGCGATTACG', -0.5568556785583496, '..((....))', 1), ('GCGTAAGTTT', -0.6135748624801636, '.(....)...', 1), ('GAGCTGAGCT', -0.7820825576782227, '.(((...)))', 1), ('TACGAAGTCC', -1.2987360954284668, '.((...))..', 1), ('GCCGCTGCGG', -1.3968558311462402, '.(((...)))', 1)]\n",
            "Test data (10) : [('GGGGGGCCCA', -1.1445636749267578, '(((...))).', 1), ('TGCGTCTCGA', -0.6018104553222656, '..((...)).', 1), ('GAGTAGACTC', -0.07999992370605469, '(((....)))', 1), ('CCGGGTCCCG', -1.2504892349243164, '.(((...)))', 1), ('CGGCACGTTC', -1.2967193126678467, '((...))...', 1), ('ACCGGGCACC', -0.960355281829834, '...((...))', 1), ('CGGCTTACGC', -0.4228684902191162, '((.....)).', 1), ('GCACCCAGCC', -0.5414896011352539, '((.....)).', 1), ('TTGTGTAACA', -0.7692272663116455, '.(((...)))', 1), ('GGGTATATCC', -0.20872974395751953, '.((.....))', 1)]\n"
          ]
        }
      ]
    },
    {
      "cell_type": "markdown",
      "source": [
        "Nous convertissons d'abord les séquences (et structures secondaires) en représentation 2D. Il faut également séparer ces séquences en batch pour pouvoir entrainer le modèle sans surcharger la RAM.\n",
        "\n",
        "Nous utilisons ici un batch size de 5, nous aurons donc 2 batch pour nos 10 données. Ces batches sont stockés dans le fichier batch"
      ],
      "metadata": {
        "id": "ReeYp-9fsrGg"
      }
    },
    {
      "cell_type": "code",
      "execution_count": 3,
      "metadata": {
        "id": "kSUmlXVI_C0S",
        "colab": {
          "base_uri": "https://localhost:8080/"
        },
        "outputId": "6bb73b2d-285e-45ad-9fe8-41dbb7f234d7"
      },
      "outputs": [
        {
          "output_type": "stream",
          "name": "stdout",
          "text": [
            "Batch 1/2 processed and saved.\n",
            "Batch 2/2 processed and saved.\n",
            "Batch 1/2 processed and saved.\n",
            "Batch 2/2 processed and saved.\n"
          ]
        }
      ],
      "source": [
        "#@title Preprocessing - Batching the data\n",
        "import model_utils as mu\n",
        "\n",
        "file_path = 'dummy_train.pkl'\n",
        "batch_size = 5\n",
        "\n",
        "print(\"Batching for MFE/n\")\n",
        "mu.process_and_save_batches(file_path, batch_size, output_type = \"mfe\")\n",
        "\n",
        "print(\"/nBatching for Secondary Structure/n\")\n",
        "mu.process_and_save_batches(file_path, batch_size, output_type = \"struct\")"
      ]
    },
    {
      "cell_type": "markdown",
      "source": [
        "Les architectures des modèles utilisés sont différentes dépendamment du type de donnée à prédire. Dans le cas des MFE (Float) et hairpins (Int), on utilise SimpleCNN(). Pour les structures secondaires (Matrice 2D) on utilise StructureCNN()."
      ],
      "metadata": {
        "id": "pypqx0CHQb3I"
      }
    },
    {
      "cell_type": "markdown",
      "source": [
        "Lors du training, on load les batches d'images nécessaires en mémoire.L'entrainement du model est lent, il nous fallait donc plusieurs sessions de training. Pour la prédiction des MFE (float) et hairpins (int) nous utilisons MSE (Mean Squared Error) comme loss. Pour la prédiction des structures secondaires, nous utilisons BCE (Binary Cross Entropy)."
      ],
      "metadata": {
        "id": "yPEnz7A4Q4rv"
      }
    },
    {
      "cell_type": "code",
      "execution_count": 4,
      "metadata": {
        "id": "b1ckVh-x_xz1",
        "colab": {
          "base_uri": "https://localhost:8080/"
        },
        "outputId": "cdb492dd-46a2-42e3-9264-ccbc8f6e3ae0"
      },
      "outputs": [
        {
          "output_type": "stream",
          "name": "stdout",
          "text": [
            "Using device: cpu\n",
            "\n",
            "Training Model on MFE (Minimum Free Energy) : \n",
            "\n",
            "\n",
            "Epoch [1/10], Average Loss: 0.354296, Average val loss: 1.113998\n",
            "Epoch [2/10], Average Loss: 0.577345, Average val loss: 1.093996\n",
            "Epoch [3/10], Average Loss: 0.356083, Average val loss: 1.116817\n",
            "Epoch [4/10], Average Loss: 0.319538, Average val loss: 1.055966\n",
            "Epoch [5/10], Average Loss: 0.202319, Average val loss: 0.986756\n",
            "Epoch [6/10], Average Loss: 0.231747, Average val loss: 0.935744\n",
            "Epoch [7/10], Average Loss: 0.271999, Average val loss: 0.943447\n",
            "Epoch [8/10], Average Loss: 0.100504, Average val loss: 1.010466\n",
            "Epoch [9/10], Average Loss: 0.137114, Average val loss: 1.005588\n",
            "Epoch [10/10], Average Loss: 0.033377, Average val loss: 0.929137"
          ]
        }
      ],
      "source": [
        "#@title Train model mfe\n",
        "import torch\n",
        "\n",
        "device = torch.device(\"cuda\" if torch.cuda.is_available() else \"cpu\")\n",
        "print(f\"Using device: {device}\\n\")\n",
        "\n",
        "model_mfe = mu.SimpleCNN().to(device)\n",
        "\n",
        "criterion_mfe = torch.nn.MSELoss()\n",
        "\n",
        "optimizer_mfe = torch.optim.Adam(model_mfe.parameters(), lr=1e-4, weight_decay=1e-6)\n",
        "\n",
        "print(\"Training Model on MFE (Minimum Free Energy) : \\n\")\n",
        "mu.train_model_from_batches('batches_mfe', model_mfe, criterion_mfe, optimizer_mfe, num_epochs = 10, output_type = \"mfe\")"
      ]
    },
    {
      "cell_type": "code",
      "source": [
        "#@title Train model struct\n",
        "model_struct = mu.StructureCNN(num_channels=5, output_size=60).to(device)\n",
        "\n",
        "criterion_struct = torch.nn.BCELoss()\n",
        "\n",
        "optimizer_struct = torch.optim.Adam(model_struct.parameters(), lr=1e-4, weight_decay=1e-6)\n",
        "\n",
        "print(\"\\nTraining Model on Secondary Structure : \\n\")\n",
        "mu.train_model_from_batches('batches_struct', model_struct, criterion_struct, optimizer_struct, num_epochs = 10, batch_size = 1, output_type = \"struct\")"
      ],
      "metadata": {
        "colab": {
          "base_uri": "https://localhost:8080/"
        },
        "cellView": "form",
        "id": "FYmCuUXwmBWc",
        "outputId": "8e8b5d4f-b09f-4c51-a421-36604579c0ec"
      },
      "execution_count": 4,
      "outputs": [
        {
          "output_type": "stream",
          "name": "stdout",
          "text": [
            "\n",
            "Training Model on Secondary Structure : \n",
            "\n",
            "\n",
            "Epoch [1/10], Average Loss: 0.677034, Average val loss: 0.684669\n",
            "Epoch [2/10], Average Loss: 0.545403, Average val loss: 0.618457\n",
            "Epoch [3/10], Average Loss: 0.359363, Average val loss: 0.452941\n",
            "Epoch [4/10], Average Loss: 0.193215, Average val loss: 0.249302\n",
            "Epoch [5/10], Average Loss: 0.102321, Average val loss: 0.099663\n",
            "Epoch [6/10], Average Loss: 0.046348, Average val loss: 0.030091\n",
            "Epoch [7/10], Average Loss: 0.023466, Average val loss: 0.008817\n",
            "Epoch [8/10], Average Loss: 0.019314, Average val loss: 0.004044\n",
            "Epoch [9/10], Average Loss: 0.011518, Average val loss: 0.003244\n",
            "Epoch [10/10], Average Loss: 0.013338, Average val loss: 0.003247"
          ]
        }
      ]
    },
    {
      "cell_type": "markdown",
      "source": [
        "Une fois les modèles entrainés, on les test sur l'ensemble de test.\n",
        "On applique d'abord le preprocessing sur les données de test (Séquence vers image + padding et structure vers image + padding)."
      ],
      "metadata": {
        "id": "ydTD6heyRmH3"
      }
    },
    {
      "cell_type": "code",
      "source": [
        "#@title Preprocess test data\n",
        "\n",
        "# Features\n",
        "data_X = [mu.convert_to_pairings(seq[0]) for seq in test_data]\n",
        "data_X = [mu.pad_structure(matrix, (60, 60), 5) for matrix in data_X]\n",
        "\n",
        "# Labels\n",
        "data_Y_mfe = [seq[1] for seq in test_data]\n",
        "data_Y_hairpins = [seq[3] for seq in test_data]\n",
        "\n",
        "data_Y_struct = [mu.structure_to_matrix(seq[2]) for seq in test_data]\n",
        "data_Y_struct = [mu.pad_structure(matrix, (60, 60)) for matrix in data_Y_struct]"
      ],
      "metadata": {
        "id": "i_Hx9MN9YfK1"
      },
      "execution_count": 7,
      "outputs": []
    },
    {
      "cell_type": "markdown",
      "source": [
        "On calcule ensuite les prédictions du modèle sur nos ensembles de tests séparés.\n",
        "\n",
        "On calcule d'abord les métriques pour le modèle MFE."
      ],
      "metadata": {
        "id": "zaUJ0cKtSM9t"
      }
    },
    {
      "cell_type": "code",
      "source": [
        "pred_data_mfe,actual_data_mfe = mu.evaluate_model(model_mfe, features = data_X, labels = data_Y_mfe)\n",
        "\n",
        "mu.get_metrics(pred_data_mfe,actual_data_mfe, output_type = \"mfe\")"
      ],
      "metadata": {
        "colab": {
          "base_uri": "https://localhost:8080/",
          "height": 740
        },
        "id": "s2IpAjkMaWkc",
        "outputId": "6ffb941b-4cf1-46f6-d693-cea756691733"
      },
      "execution_count": 7,
      "outputs": [
        {
          "output_type": "stream",
          "name": "stdout",
          "text": [
            "\n",
            " Printing metrics for the model : {output_type} \n",
            "\n",
            "MSE for data: 0.5533071\n",
            "MAE for data: 0.62824345\n",
            "RMSE for data: 0.7438462\n",
            "R2 for data: -2.33516404834774\n"
          ]
        },
        {
          "output_type": "stream",
          "name": "stderr",
          "text": [
            "/content/model_utils.py:377: UserWarning: Creating a tensor from a list of numpy.ndarrays is extremely slow. Please consider converting the list to a single numpy.ndarray with numpy.array() before converting to a tensor. (Triggered internally at ../torch/csrc/utils/tensor_new.cpp:275.)\n",
            "  features_tensor = torch.tensor(features, dtype=torch.float32)\n"
          ]
        },
        {
          "output_type": "display_data",
          "data": {
            "text/plain": [
              "<Figure size 800x600 with 1 Axes>"
            ],
            "image/png": "[encoded data removed]"
          },
          "metadata": {}
        }
      ]
    },
    {
      "cell_type": "markdown",
      "source": [
        "On calcule ensuite les métriques pour le modèle structure.\n",
        "Les performances sur nos ensembles dummy sont médiocres (le modèle ne peut pas apprendre sur des ensembles de données aussi petits), mais ce code donne cependant une overview du fonctionnement de notre code principal."
      ],
      "metadata": {
        "id": "3U_5eFHuzxVY"
      }
    },
    {
      "cell_type": "code",
      "source": [
        "pred_data_struct,actual_data_struct = mu.evaluate_model(model_struct, features = data_X, labels = data_Y_struct,isStruct=True)\n",
        "\n",
        "mu.get_metrics(pred_data_struct,actual_data_struct, output_type = \"struct\")"
      ],
      "metadata": {
        "colab": {
          "base_uri": "https://localhost:8080/"
        },
        "id": "a5LPT1zzmhLV",
        "outputId": "97cdb0ae-9e5d-44bf-984a-d4386010ae95"
      },
      "execution_count": 20,
      "outputs": [
        {
          "output_type": "stream",
          "name": "stdout",
          "text": [
            "\n",
            " Printing metrics for the model : {output_type} \n",
            "\n",
            "Precision :  0.0\n",
            "Metrics for pred_data:\n",
            "Symbol '.', Precision: 0.9338983050847458 Recall: 0.9981884057971014 F1 Score: 0.9649737302977233\n",
            "Symbol '(', Precision: 0.0 Recall: 0.0 F1 Score: 0.0\n",
            "Symbol ')', Precision: 0.9 Recall: 0.375 F1 Score: 0.5294117647058825\n"
          ]
        },
        {
          "output_type": "stream",
          "name": "stderr",
          "text": [
            "/usr/local/lib/python3.10/dist-packages/sklearn/metrics/_classification.py:1344: UndefinedMetricWarning: Precision is ill-defined and being set to 0.0 in labels with no predicted samples. Use `zero_division` parameter to control this behavior.\n",
            "  _warn_prf(average, modifier, msg_start, len(result))\n"
          ]
        }
      ]
    },
    {
      "cell_type": "markdown",
      "source": [
        "On peut regarder l'output de notre modèle :"
      ],
      "metadata": {
        "id": "8ukFd4fb0PqD"
      }
    },
    {
      "cell_type": "code",
      "source": [
        "print(pred_data_struct[0])\n",
        "print(actual_data_struct[0])"
      ],
      "metadata": {
        "colab": {
          "base_uri": "https://localhost:8080/"
        },
        "id": "bRuH24Ef0JQD",
        "outputId": "8cece0dd-48a1-461b-8a13-0cbb5f9eb0ab"
      },
      "execution_count": 21,
      "outputs": [
        {
          "output_type": "stream",
          "name": "stdout",
          "text": [
            "........)...................................................\n",
            "(((...)))...................................................\n"
          ]
        }
      ]
    }
  ],
  "metadata": {
    "colab": {
      "provenance": []
    },
    "kernelspec": {
      "display_name": "Python 3",
      "name": "python3"
    },
    "language_info": {
      "codemirror_mode": {
        "name": "ipython",
        "version": 3
      },
      "file_extension": ".py",
      "mimetype": "text/x-python",
      "name": "python",
      "nbconvert_exporter": "python",
      "pygments_lexer": "ipython3",
      "version": "3.10.13"
    }
  },
  "nbformat": 4,
  "nbformat_minor": 0
}