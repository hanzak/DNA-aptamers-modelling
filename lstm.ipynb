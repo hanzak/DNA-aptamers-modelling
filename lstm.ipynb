{
 "cells": [
  {
   "cell_type": "code",
   "execution_count": 11,
   "id": "d49918e7",
   "metadata": {},
   "outputs": [],
   "source": [
    "import numpy as np\n",
    "import pickle\n",
    "import os\n",
    "from keras.callbacks import EarlyStopping\n",
    "from keras.models import Sequential\n",
    "from keras.layers import LSTM, Dense\n",
    "from sklearn.model_selection import train_test_split\n",
    "from sklearn.preprocessing import StandardScaler"
   ]
  },
  {
   "cell_type": "code",
   "execution_count": 12,
   "id": "41e85949",
   "metadata": {},
   "outputs": [],
   "source": [
    "# Disable debug info\n",
    "os.environ['TF_CPP_MIN_LOG_LEVEL'] = '2'"
   ]
  },
  {
   "cell_type": "code",
   "execution_count": 13,
   "id": "2b26a73b",
   "metadata": {},
   "outputs": [],
   "source": [
    "# Load data\n",
    "path = 'data_2p5M.pkl'\n",
    "with open(path, 'rb') as f:\n",
    "    data = pickle.load(f)"
   ]
  },
  {
   "cell_type": "code",
   "execution_count": 14,
   "id": "39fac77f",
   "metadata": {},
   "outputs": [
    {
     "name": "stderr",
     "output_type": "stream",
     "text": [
      "/var/folders/6n/bmd4v8bx4vs7tc_7vk0x9wyh0000gn/T/ipykernel_78344/3384038362.py:15: VisibleDeprecationWarning: Creating an ndarray from ragged nested sequences (which is a list-or-tuple of lists-or-tuples-or ndarrays with different lengths or shapes) is deprecated. If you meant to do this, you must specify 'dtype=object' when creating the ndarray.\n",
      "  encoded_sequences = np.array([one_hot_encode(seq) for seq in sequences])\n"
     ]
    }
   ],
   "source": [
    "# Extract sequences and energies\n",
    "sequences, energies = zip(*data)\n",
    "\n",
    "# 1-hot encode sequences\n",
    "nucleotides = ['A', 'C', 'G', 'T']\n",
    "sequence_length = max(len(seq) for seq in sequences)\n",
    "num_nucleotides = len(nucleotides)\n",
    "\n",
    "def one_hot_encode(sequence):\n",
    "    encoding = np.zeros((len(sequence), num_nucleotides))\n",
    "    for i, nucleotide in enumerate(sequence):\n",
    "        encoding[i, nucleotides.index(nucleotide)] = 1\n",
    "    return encoding\n",
    "\n",
    "encoded_sequences = np.array([one_hot_encode(seq) for seq in sequences])"
   ]
  },
  {
   "cell_type": "code",
   "execution_count": 15,
   "id": "5e12e9b3",
   "metadata": {},
   "outputs": [],
   "source": [
    "# Pad sequences to a fixed length\n",
    "padded_sequences = np.zeros((len(sequences), sequence_length, num_nucleotides))\n",
    "for i, seq in enumerate(encoded_sequences):\n",
    "    padded_sequences[i, :len(seq), :] = seq"
   ]
  },
  {
   "cell_type": "code",
   "execution_count": 16,
   "id": "31f888e5",
   "metadata": {},
   "outputs": [],
   "source": [
    "# Standardize energies\n",
    "energies = np.array(energies).reshape(-1, 1)\n",
    "scaler = StandardScaler()\n",
    "energies = scaler.fit_transform(energies)\n",
    "\n",
    "# Split data into training and testing sets\n",
    "X_train, X_test, y_train, y_test = train_test_split(padded_sequences, energies, test_size=0.2)"
   ]
  },
  {
   "cell_type": "code",
   "execution_count": 17,
   "id": "9c89c0f7",
   "metadata": {},
   "outputs": [
    {
     "name": "stderr",
     "output_type": "stream",
     "text": [
      "2024-03-03 11:45:56.004161: I tensorflow/core/common_runtime/executor.cc:1197] [/device:CPU:0] (DEBUG INFO) Executor start aborting (this does not indicate an error and you can ignore this message): INVALID_ARGUMENT: You must feed a value for placeholder tensor 'gradients/split_2_grad/concat/split_2/split_dim' with dtype int32\n",
      "\t [[{{node gradients/split_2_grad/concat/split_2/split_dim}}]]\n",
      "2024-03-03 11:45:56.004543: I tensorflow/core/common_runtime/executor.cc:1197] [/device:CPU:0] (DEBUG INFO) Executor start aborting (this does not indicate an error and you can ignore this message): INVALID_ARGUMENT: You must feed a value for placeholder tensor 'gradients/split_grad/concat/split/split_dim' with dtype int32\n",
      "\t [[{{node gradients/split_grad/concat/split/split_dim}}]]\n",
      "2024-03-03 11:45:56.005104: I tensorflow/core/common_runtime/executor.cc:1197] [/device:CPU:0] (DEBUG INFO) Executor start aborting (this does not indicate an error and you can ignore this message): INVALID_ARGUMENT: You must feed a value for placeholder tensor 'gradients/split_1_grad/concat/split_1/split_dim' with dtype int32\n",
      "\t [[{{node gradients/split_1_grad/concat/split_1/split_dim}}]]\n"
     ]
    },
    {
     "name": "stdout",
     "output_type": "stream",
     "text": [
      "Epoch 1/100\n"
     ]
    },
    {
     "name": "stderr",
     "output_type": "stream",
     "text": [
      "2024-03-03 11:45:57.130252: I tensorflow/core/common_runtime/executor.cc:1197] [/device:CPU:0] (DEBUG INFO) Executor start aborting (this does not indicate an error and you can ignore this message): INVALID_ARGUMENT: You must feed a value for placeholder tensor 'gradients/split_2_grad/concat/split_2/split_dim' with dtype int32\n",
      "\t [[{{node gradients/split_2_grad/concat/split_2/split_dim}}]]\n",
      "2024-03-03 11:45:57.130782: I tensorflow/core/common_runtime/executor.cc:1197] [/device:CPU:0] (DEBUG INFO) Executor start aborting (this does not indicate an error and you can ignore this message): INVALID_ARGUMENT: You must feed a value for placeholder tensor 'gradients/split_grad/concat/split/split_dim' with dtype int32\n",
      "\t [[{{node gradients/split_grad/concat/split/split_dim}}]]\n",
      "2024-03-03 11:45:57.131252: I tensorflow/core/common_runtime/executor.cc:1197] [/device:CPU:0] (DEBUG INFO) Executor start aborting (this does not indicate an error and you can ignore this message): INVALID_ARGUMENT: You must feed a value for placeholder tensor 'gradients/split_1_grad/concat/split_1/split_dim' with dtype int32\n",
      "\t [[{{node gradients/split_1_grad/concat/split_1/split_dim}}]]\n",
      "2024-03-03 11:45:57.301060: I tensorflow/core/common_runtime/executor.cc:1197] [/device:CPU:0] (DEBUG INFO) Executor start aborting (this does not indicate an error and you can ignore this message): INVALID_ARGUMENT: You must feed a value for placeholder tensor 'gradients/split_2_grad/concat/split_2/split_dim' with dtype int32\n",
      "\t [[{{node gradients/split_2_grad/concat/split_2/split_dim}}]]\n",
      "2024-03-03 11:45:57.301553: I tensorflow/core/common_runtime/executor.cc:1197] [/device:CPU:0] (DEBUG INFO) Executor start aborting (this does not indicate an error and you can ignore this message): INVALID_ARGUMENT: You must feed a value for placeholder tensor 'gradients/split_grad/concat/split/split_dim' with dtype int32\n",
      "\t [[{{node gradients/split_grad/concat/split/split_dim}}]]\n",
      "2024-03-03 11:45:57.301979: I tensorflow/core/common_runtime/executor.cc:1197] [/device:CPU:0] (DEBUG INFO) Executor start aborting (this does not indicate an error and you can ignore this message): INVALID_ARGUMENT: You must feed a value for placeholder tensor 'gradients/split_1_grad/concat/split_1/split_dim' with dtype int32\n",
      "\t [[{{node gradients/split_1_grad/concat/split_1/split_dim}}]]\n"
     ]
    },
    {
     "name": "stdout",
     "output_type": "stream",
     "text": [
      "56242/56250 [============================>.] - ETA: 0s - loss: 0.4863"
     ]
    },
    {
     "name": "stderr",
     "output_type": "stream",
     "text": [
      "2024-03-03 11:50:58.889498: I tensorflow/core/common_runtime/executor.cc:1197] [/device:CPU:0] (DEBUG INFO) Executor start aborting (this does not indicate an error and you can ignore this message): INVALID_ARGUMENT: You must feed a value for placeholder tensor 'gradients/split_2_grad/concat/split_2/split_dim' with dtype int32\n",
      "\t [[{{node gradients/split_2_grad/concat/split_2/split_dim}}]]\n",
      "2024-03-03 11:50:58.889947: I tensorflow/core/common_runtime/executor.cc:1197] [/device:CPU:0] (DEBUG INFO) Executor start aborting (this does not indicate an error and you can ignore this message): INVALID_ARGUMENT: You must feed a value for placeholder tensor 'gradients/split_grad/concat/split/split_dim' with dtype int32\n",
      "\t [[{{node gradients/split_grad/concat/split/split_dim}}]]\n",
      "2024-03-03 11:50:58.890350: I tensorflow/core/common_runtime/executor.cc:1197] [/device:CPU:0] (DEBUG INFO) Executor start aborting (this does not indicate an error and you can ignore this message): INVALID_ARGUMENT: You must feed a value for placeholder tensor 'gradients/split_1_grad/concat/split_1/split_dim' with dtype int32\n",
      "\t [[{{node gradients/split_1_grad/concat/split_1/split_dim}}]]\n"
     ]
    },
    {
     "name": "stdout",
     "output_type": "stream",
     "text": [
      "56250/56250 [==============================] - 314s 6ms/step - loss: 0.4863 - val_loss: 0.4213\n",
      "Epoch 2/100\n",
      "56250/56250 [==============================] - 314s 6ms/step - loss: 0.3981 - val_loss: 0.3810\n",
      "Epoch 3/100\n",
      "56250/56250 [==============================] - 314s 6ms/step - loss: 0.3656 - val_loss: 0.3544\n",
      "Epoch 4/100\n",
      "56250/56250 [==============================] - 316s 6ms/step - loss: 0.3469 - val_loss: 0.3434\n",
      "Epoch 5/100\n",
      "56250/56250 [==============================] - 315s 6ms/step - loss: 0.3348 - val_loss: 0.3284\n",
      "Epoch 6/100\n",
      "56250/56250 [==============================] - 313s 6ms/step - loss: 0.3256 - val_loss: 0.3230\n",
      "Epoch 7/100\n",
      "56250/56250 [==============================] - 320s 6ms/step - loss: 0.3188 - val_loss: 0.3172\n",
      "Epoch 8/100\n",
      "56250/56250 [==============================] - 324s 6ms/step - loss: 0.3138 - val_loss: 0.3123\n",
      "Epoch 9/100\n",
      "56250/56250 [==============================] - 314s 6ms/step - loss: 0.3101 - val_loss: 0.3119\n",
      "Epoch 10/100\n",
      "56250/56250 [==============================] - 325s 6ms/step - loss: 0.3072 - val_loss: 0.3076\n",
      "Epoch 11/100\n",
      "56250/56250 [==============================] - 321s 6ms/step - loss: 0.3047 - val_loss: 0.3072\n",
      "Epoch 12/100\n",
      "56250/56250 [==============================] - 315s 6ms/step - loss: 0.3026 - val_loss: 0.3034\n",
      "Epoch 13/100\n",
      "56250/56250 [==============================] - 316s 6ms/step - loss: 0.3007 - val_loss: 0.3044\n",
      "Epoch 14/100\n",
      "56250/56250 [==============================] - 314s 6ms/step - loss: 0.2991 - val_loss: 0.3004\n",
      "Epoch 15/100\n",
      "56250/56250 [==============================] - 312s 6ms/step - loss: 0.2977 - val_loss: 0.3039\n",
      "Epoch 16/100\n",
      "56250/56250 [==============================] - 314s 6ms/step - loss: 0.2964 - val_loss: 0.3036\n",
      "Epoch 17/100\n",
      "56250/56250 [==============================] - 314s 6ms/step - loss: 0.2951 - val_loss: 0.2978\n",
      "Epoch 18/100\n",
      "56250/56250 [==============================] - 314s 6ms/step - loss: 0.2940 - val_loss: 0.2969\n",
      "Epoch 19/100\n",
      "56250/56250 [==============================] - 311s 6ms/step - loss: 0.2931 - val_loss: 0.2950\n",
      "Epoch 20/100\n",
      "56250/56250 [==============================] - 312s 6ms/step - loss: 0.2921 - val_loss: 0.2954\n",
      "Epoch 21/100\n",
      "56250/56250 [==============================] - 314s 6ms/step - loss: 0.2913 - val_loss: 0.2969\n",
      "Epoch 22/100\n",
      "56250/56250 [==============================] - 314s 6ms/step - loss: 0.2905 - val_loss: 0.2940\n",
      "Epoch 23/100\n",
      "56250/56250 [==============================] - 9361s 166ms/step - loss: 0.2898 - val_loss: 0.2912\n",
      "Epoch 24/100\n",
      "56250/56250 [==============================] - 313s 6ms/step - loss: 0.2890 - val_loss: 0.2912\n",
      "Epoch 25/100\n",
      "56250/56250 [==============================] - 312s 6ms/step - loss: 0.2883 - val_loss: 0.2903\n",
      "Epoch 26/100\n",
      "56250/56250 [==============================] - 313s 6ms/step - loss: 0.2877 - val_loss: 0.2907\n",
      "Epoch 27/100\n",
      "56250/56250 [==============================] - 314s 6ms/step - loss: 0.2871 - val_loss: 0.2904\n",
      "Epoch 28/100\n",
      "56250/56250 [==============================] - 315s 6ms/step - loss: 0.2866 - val_loss: 0.2919\n"
     ]
    }
   ],
   "source": [
    "# Build LSTM model\n",
    "model = Sequential()\n",
    "model.add(LSTM(50, input_shape=(sequence_length, num_nucleotides)))\n",
    "model.add(Dense(1, activation='linear'))\n",
    "\n",
    "# Compile model\n",
    "model.compile(optimizer='adam', loss='mean_squared_error')\n",
    "\n",
    "# Train the model\n",
    "early_stopping = EarlyStopping(monitor='val_loss', patience=3, restore_best_weights=True)\n",
    "history = model.fit(X_train, y_train, epochs=100, batch_size=32, validation_split=0.1, callbacks=[early_stopping])"
   ]
  },
  {
   "cell_type": "code",
   "execution_count": 18,
   "id": "73df127f",
   "metadata": {},
   "outputs": [
    {
     "name": "stdout",
     "output_type": "stream",
     "text": [
      "15625/15625 [==============================] - 30s 2ms/step - loss: 0.2889\n",
      "MSE on test data: 0.28893133997917175\n"
     ]
    }
   ],
   "source": [
    "# Calculate MSE\n",
    "mse = model.evaluate(X_test, y_test)\n",
    "print(f'MSE on test data: {mse}')"
   ]
  },
  {
   "cell_type": "code",
   "execution_count": 31,
   "id": "fc2d51c2",
   "metadata": {},
   "outputs": [
    {
     "name": "stdout",
     "output_type": "stream",
     "text": [
      "1/1 [==============================] - 0s 17ms/step\n",
      "Predicted Energy for new sequence: -2.5390784740448\n"
     ]
    }
   ],
   "source": [
    "# Make predictions on new data (replace new_sequence with desired sequence)\n",
    "new_sequence = 'ATCGGAGCAAGTAAAGTGGAACGTTGTAACGGTTGTTAACTCA'\n",
    "encoded_new_sequence = np.array([one_hot_encode(new_sequence)])\n",
    "padded_new_sequence = np.zeros((1, sequence_length, num_nucleotides))\n",
    "padded_new_sequence[0, :len(encoded_new_sequence[0]), :] = encoded_new_sequence[0]\n",
    "predicted_energy = model.predict(padded_new_sequence)\n",
    "predicted_energy = scaler.inverse_transform(predicted_energy)\n",
    "print(f'Predicted Energy for new sequence: {predicted_energy[0, 0]}')"
   ]
  },
  {
   "cell_type": "code",
   "execution_count": 26,
   "id": "9c236c85",
   "metadata": {},
   "outputs": [],
   "source": [
    "model.save('lstm.keras')"
   ]
  }
 ],
 "metadata": {
  "kernelspec": {
   "display_name": "Python 3 (ipykernel)",
   "language": "python",
   "name": "python3"
  },
  "language_info": {
   "codemirror_mode": {
    "name": "ipython",
    "version": 3
   },
   "file_extension": ".py",
   "mimetype": "text/x-python",
   "name": "python",
   "nbconvert_exporter": "python",
   "pygments_lexer": "ipython3",
   "version": "3.11.4"
  }
 },
 "nbformat": 4,
 "nbformat_minor": 5
}
