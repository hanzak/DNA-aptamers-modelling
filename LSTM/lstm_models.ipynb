{
 "cells": [
  {
   "cell_type": "code",
   "execution_count": 1,
   "id": "5b6e5150",
   "metadata": {},
   "outputs": [
    {
     "name": "stderr",
     "output_type": "stream",
     "text": [
      "2024-03-31 12:17:35.057129: I tensorflow/core/util/port.cc:113] oneDNN custom operations are on. You may see slightly different numerical results due to floating-point round-off errors from different computation orders. To turn them off, set the environment variable `TF_ENABLE_ONEDNN_OPTS=0`.\n",
      "2024-03-31 12:17:35.271557: E external/local_xla/xla/stream_executor/cuda/cuda_dnn.cc:9261] Unable to register cuDNN factory: Attempting to register factory for plugin cuDNN when one has already been registered\n",
      "2024-03-31 12:17:35.271597: E external/local_xla/xla/stream_executor/cuda/cuda_fft.cc:607] Unable to register cuFFT factory: Attempting to register factory for plugin cuFFT when one has already been registered\n",
      "2024-03-31 12:17:35.313506: E external/local_xla/xla/stream_executor/cuda/cuda_blas.cc:1515] Unable to register cuBLAS factory: Attempting to register factory for plugin cuBLAS when one has already been registered\n",
      "2024-03-31 12:17:35.402601: I tensorflow/core/platform/cpu_feature_guard.cc:182] This TensorFlow binary is optimized to use available CPU instructions in performance-critical operations.\n",
      "To enable the following instructions: AVX2 AVX512F AVX512_VNNI AVX512_BF16 FMA, in other operations, rebuild TensorFlow with the appropriate compiler flags.\n",
      "2024-03-31 12:17:36.145211: W tensorflow/compiler/tf2tensorrt/utils/py_utils.cc:38] TF-TRT Warning: Could not find TensorRT\n"
     ]
    }
   ],
   "source": [
    "import numpy as np\n",
    "import pickle\n",
    "import gc\n",
    "import tensorflow as tf\n",
    "from tensorflow.keras.layers import Bidirectional\n",
    "from tensorflow.keras.callbacks import EarlyStopping\n",
    "from tensorflow.keras.models import Model\n",
    "from tensorflow.keras.layers import LSTM, Embedding, Dense, TimeDistributed, Bidirectional, Input\n",
    "from tensorflow.keras.preprocessing.text import Tokenizer\n",
    "from tensorflow.keras.utils import to_categorical\n",
    "from tensorflow.keras.utils import pad_sequences\n",
    "from keras.losses import categorical_crossentropy"
   ]
  },
  {
   "cell_type": "code",
   "execution_count": 2,
   "id": "a66539af",
   "metadata": {},
   "outputs": [
    {
     "name": "stdout",
     "output_type": "stream",
     "text": [
      "Num GPUs Available:  1\n",
      "['/device:GPU:0']\n"
     ]
    },
    {
     "name": "stderr",
     "output_type": "stream",
     "text": [
      "2024-03-31 12:17:42.340206: I external/local_xla/xla/stream_executor/cuda/cuda_executor.cc:887] could not open file to read NUMA node: /sys/bus/pci/devices/0000:01:00.0/numa_node\n",
      "Your kernel may have been built without NUMA support.\n",
      "2024-03-31 12:17:42.463018: I external/local_xla/xla/stream_executor/cuda/cuda_executor.cc:887] could not open file to read NUMA node: /sys/bus/pci/devices/0000:01:00.0/numa_node\n",
      "Your kernel may have been built without NUMA support.\n",
      "2024-03-31 12:17:42.463049: I external/local_xla/xla/stream_executor/cuda/cuda_executor.cc:887] could not open file to read NUMA node: /sys/bus/pci/devices/0000:01:00.0/numa_node\n",
      "Your kernel may have been built without NUMA support.\n",
      "2024-03-31 12:17:42.465462: I external/local_xla/xla/stream_executor/cuda/cuda_executor.cc:887] could not open file to read NUMA node: /sys/bus/pci/devices/0000:01:00.0/numa_node\n",
      "Your kernel may have been built without NUMA support.\n",
      "2024-03-31 12:17:42.465497: I external/local_xla/xla/stream_executor/cuda/cuda_executor.cc:887] could not open file to read NUMA node: /sys/bus/pci/devices/0000:01:00.0/numa_node\n",
      "Your kernel may have been built without NUMA support.\n",
      "2024-03-31 12:17:42.465517: I external/local_xla/xla/stream_executor/cuda/cuda_executor.cc:887] could not open file to read NUMA node: /sys/bus/pci/devices/0000:01:00.0/numa_node\n",
      "Your kernel may have been built without NUMA support.\n",
      "2024-03-31 12:17:42.618756: I external/local_xla/xla/stream_executor/cuda/cuda_executor.cc:887] could not open file to read NUMA node: /sys/bus/pci/devices/0000:01:00.0/numa_node\n",
      "Your kernel may have been built without NUMA support.\n",
      "2024-03-31 12:17:42.618796: I external/local_xla/xla/stream_executor/cuda/cuda_executor.cc:887] could not open file to read NUMA node: /sys/bus/pci/devices/0000:01:00.0/numa_node\n",
      "Your kernel may have been built without NUMA support.\n",
      "2024-03-31 12:17:42.618803: I tensorflow/core/common_runtime/gpu/gpu_device.cc:2022] Could not identify NUMA node of platform GPU id 0, defaulting to 0.  Your kernel may not have been built with NUMA support.\n",
      "2024-03-31 12:17:42.618830: I external/local_xla/xla/stream_executor/cuda/cuda_executor.cc:887] could not open file to read NUMA node: /sys/bus/pci/devices/0000:01:00.0/numa_node\n",
      "Your kernel may have been built without NUMA support.\n",
      "2024-03-31 12:17:42.618843: I tensorflow/core/common_runtime/gpu/gpu_device.cc:1929] Created device /device:GPU:0 with 21416 MB memory:  -> device: 0, name: NVIDIA GeForce RTX 4090, pci bus id: 0000:01:00.0, compute capability: 8.9\n"
     ]
    }
   ],
   "source": [
    "import tensorflow as tf\n",
    "print(\"Num GPUs Available: \", len(tf.config.list_physical_devices('GPU')))\n",
    "from tensorflow.python.client import device_lib\n",
    "\n",
    "def get_available_gpus():\n",
    "    local_device_protos = device_lib.list_local_devices()\n",
    "    return [x.name for x in local_device_protos if x.device_type == 'GPU']\n",
    "\n",
    "print(get_available_gpus())"
   ]
  },
  {
   "cell_type": "code",
   "execution_count": 3,
   "id": "02e86146",
   "metadata": {},
   "outputs": [],
   "source": [
    "# Load data\n",
    "path = 'data/train_2p5M_struct.pkl'\n",
    "with open(path, 'rb') as f:\n",
    "    data_train = pickle.load(f).dataset\n",
    "\n",
    "path = 'data/valid_2p5M_struct.pkl'\n",
    "with open(path, 'rb') as f:\n",
    "    data_valid = pickle.load(f).dataset\n",
    "\n",
    "path = 'data/test_2p5M_struct.pkl'\n",
    "with open(path, 'rb') as f:\n",
    "    data_test = pickle.load(f).dataset"
   ]
  },
  {
   "cell_type": "code",
   "execution_count": 4,
   "id": "08fee287",
   "metadata": {},
   "outputs": [
    {
     "data": {
      "text/plain": [
       "0"
      ]
     },
     "execution_count": 4,
     "metadata": {},
     "output_type": "execute_result"
    }
   ],
   "source": [
    "# Extract sequences and energies\n",
    "sequences_train, energies_train, struct_train, hairpins_train = zip(*data_train)\n",
    "sequences_valid, energies_valid, struct_valid, hairpins_valid = zip(*data_valid)\n",
    "sequences_test, energies_test, struct_test, hairpins_test = zip(*data_test)\n",
    "\n",
    "energies_train = np.asarray(energies_train)\n",
    "hairpins_train = np.asarray(hairpins_train)\n",
    "energies_valid = np.asarray(energies_valid)\n",
    "hairpins_valid = np.asarray(hairpins_valid)\n",
    "\n",
    "# Free memory\n",
    "del data_train\n",
    "del data_valid\n",
    "del data_test\n",
    "gc.collect()"
   ]
  },
  {
   "cell_type": "code",
   "execution_count": 5,
   "id": "46a7ab55",
   "metadata": {},
   "outputs": [
    {
     "data": {
      "text/plain": [
       "0"
      ]
     },
     "execution_count": 5,
     "metadata": {},
     "output_type": "execute_result"
    }
   ],
   "source": [
    "# Convert sequences to n grams\n",
    "def seq2ngrams(seqs, n=1):\n",
    "    return np.array([[seq[i:i+n] for i in range(len(seq))] for seq in seqs], dtype=object)\n",
    "\n",
    "maxlen_seq = 50\n",
    "input_grams_train = seq2ngrams(sequences_train)\n",
    "input_grams_valid = seq2ngrams(sequences_valid)\n",
    "input_grams_test = seq2ngrams(sequences_test)\n",
    "\n",
    "# Free memory\n",
    "del sequences_train\n",
    "del sequences_valid\n",
    "del sequences_test\n",
    "gc.collect()"
   ]
  },
  {
   "cell_type": "code",
   "execution_count": 6,
   "id": "f5dc96a1",
   "metadata": {},
   "outputs": [
    {
     "data": {
      "text/plain": [
       "0"
      ]
     },
     "execution_count": 6,
     "metadata": {},
     "output_type": "execute_result"
    }
   ],
   "source": [
    "# Prepare for embedding\n",
    "tokenizer_encoder = Tokenizer()\n",
    "tokenizer_encoder.fit_on_texts(input_grams_train)\n",
    "input_data_train = tokenizer_encoder.texts_to_sequences(input_grams_train)\n",
    "input_data_train = pad_sequences(input_data_train, maxlen=maxlen_seq, padding='post')\n",
    "input_data_valid = tokenizer_encoder.texts_to_sequences(input_grams_valid)\n",
    "input_data_valid = pad_sequences(input_data_valid, maxlen=maxlen_seq, padding='post')\n",
    "input_data_test = tokenizer_encoder.texts_to_sequences(input_grams_test)\n",
    "input_data_test = pad_sequences(input_data_test, maxlen=maxlen_seq, padding='post')\n",
    "n_words = len(tokenizer_encoder.word_index) + 1\n",
    "\n",
    "tokenizer_decoder = Tokenizer(char_level=True)\n",
    "tokenizer_decoder.fit_on_texts(struct_train)\n",
    "struct_train = tokenizer_decoder.texts_to_sequences(struct_train)\n",
    "struct_train = pad_sequences(struct_train, maxlen=maxlen_seq, padding='post')\n",
    "struct_train = to_categorical(struct_train)\n",
    "\n",
    "struct_valid = tokenizer_decoder.texts_to_sequences(struct_valid)\n",
    "struct_valid = pad_sequences(struct_valid, maxlen=maxlen_seq, padding='post')\n",
    "struct_valid = to_categorical(struct_valid)\n",
    "\n",
    "struct_test = tokenizer_decoder.texts_to_sequences(struct_test)\n",
    "struct_test = pad_sequences(struct_test, maxlen=maxlen_seq, padding='post')\n",
    "struct_test = to_categorical(struct_test)\n",
    "\n",
    "# Free memory\n",
    "del input_grams_train\n",
    "del input_grams_valid\n",
    "del input_grams_test\n",
    "gc.collect()"
   ]
  },
  {
   "cell_type": "code",
   "execution_count": 7,
   "id": "d70839a0",
   "metadata": {},
   "outputs": [],
   "source": [
    "@tf.keras.saving.register_keras_serializable()\n",
    "def weighted_categorical_crossentropy(y_true, y_pred):\n",
    "    class_weights = tf.constant([1.0, 1.0, 2.0, 2.0])\n",
    "    weights = tf.reduce_sum(class_weights * y_true, axis=-1)\n",
    "    unweighted_loss = categorical_crossentropy(y_true, y_pred)\n",
    "    weighted_loss = unweighted_loss * weights\n",
    "    return weighted_loss"
   ]
  },
  {
   "cell_type": "code",
   "execution_count": 8,
   "id": "7add2983",
   "metadata": {},
   "outputs": [
    {
     "name": "stderr",
     "output_type": "stream",
     "text": [
      "2024-03-31 12:20:13.036588: I external/local_xla/xla/stream_executor/cuda/cuda_executor.cc:887] could not open file to read NUMA node: /sys/bus/pci/devices/0000:01:00.0/numa_node\n",
      "Your kernel may have been built without NUMA support.\n",
      "2024-03-31 12:20:13.039948: I external/local_xla/xla/stream_executor/cuda/cuda_executor.cc:887] could not open file to read NUMA node: /sys/bus/pci/devices/0000:01:00.0/numa_node\n",
      "Your kernel may have been built without NUMA support.\n",
      "2024-03-31 12:20:13.039980: I external/local_xla/xla/stream_executor/cuda/cuda_executor.cc:887] could not open file to read NUMA node: /sys/bus/pci/devices/0000:01:00.0/numa_node\n",
      "Your kernel may have been built without NUMA support.\n",
      "2024-03-31 12:20:13.079184: I external/local_xla/xla/stream_executor/cuda/cuda_executor.cc:887] could not open file to read NUMA node: /sys/bus/pci/devices/0000:01:00.0/numa_node\n",
      "Your kernel may have been built without NUMA support.\n",
      "2024-03-31 12:20:13.079407: I tensorflow/core/common_runtime/gpu/gpu_device.cc:2022] Could not identify NUMA node of platform GPU id 0, defaulting to 0.  Your kernel may not have been built with NUMA support.\n",
      "2024-03-31 12:20:13.079482: I external/local_xla/xla/stream_executor/cuda/cuda_executor.cc:887] could not open file to read NUMA node: /sys/bus/pci/devices/0000:01:00.0/numa_node\n",
      "Your kernel may have been built without NUMA support.\n",
      "2024-03-31 12:20:13.079506: I tensorflow/core/common_runtime/gpu/gpu_device.cc:1929] Created device /job:localhost/replica:0/task:0/device:GPU:0 with 21416 MB memory:  -> device: 0, name: NVIDIA GeForce RTX 4090, pci bus id: 0000:01:00.0, compute capability: 8.9\n"
     ]
    },
    {
     "name": "stdout",
     "output_type": "stream",
     "text": [
      "Model: \"model\"\n",
      "__________________________________________________________________________________________________\n",
      " Layer (type)                Output Shape                 Param #   Connected to                  \n",
      "==================================================================================================\n",
      " input_1 (InputLayer)        [(None, 50)]                 0         []                            \n",
      "                                                                                                  \n",
      " embedding (Embedding)       (None, 50, 128)              640       ['input_1[0][0]']             \n",
      "                                                                                                  \n",
      " bidirectional (Bidirection  (None, 50, 256)              263168    ['embedding[0][0]']           \n",
      " al)                                                                                              \n",
      "                                                                                                  \n",
      " bidirectional_1 (Bidirecti  (None, 50, 256)              394240    ['bidirectional[0][0]']       \n",
      " onal)                                                                                            \n",
      "                                                                                                  \n",
      " bidirectional_2 (Bidirecti  (None, 50, 256)              394240    ['bidirectional_1[0][0]']     \n",
      " onal)                                                                                            \n",
      "                                                                                                  \n",
      " bidirectional_3 (Bidirecti  (None, 50, 256)              394240    ['bidirectional_2[0][0]']     \n",
      " onal)                                                                                            \n",
      "                                                                                                  \n",
      " bidirectional_4 (Bidirecti  (None, 50, 256)              394240    ['bidirectional_3[0][0]']     \n",
      " onal)                                                                                            \n",
      "                                                                                                  \n",
      " tf.__operators__.getitem (  (None, 256)                  0         ['bidirectional_4[0][0]']     \n",
      " SlicingOpLambda)                                                                                 \n",
      "                                                                                                  \n",
      " tf.__operators__.getitem_1  (None, 256)                  0         ['bidirectional_4[0][0]']     \n",
      "  (SlicingOpLambda)                                                                               \n",
      "                                                                                                  \n",
      " MFE (Dense)                 (None, 1)                    257       ['tf.__operators__.getitem[0][\n",
      "                                                                    0]']                          \n",
      "                                                                                                  \n",
      " Hairpins (Dense)            (None, 1)                    257       ['tf.__operators__.getitem_1[0\n",
      "                                                                    ][0]']                        \n",
      "                                                                                                  \n",
      " Struct (TimeDistributed)    (None, 50, 4)                1028      ['bidirectional_4[0][0]']     \n",
      "                                                                                                  \n",
      "==================================================================================================\n",
      "Total params: 1842310 (7.03 MB)\n",
      "Trainable params: 1842310 (7.03 MB)\n",
      "Non-trainable params: 0 (0.00 Byte)\n",
      "__________________________________________________________________________________________________\n"
     ]
    }
   ],
   "source": [
    "# Layers\n",
    "input_seq = Input(shape=(maxlen_seq,))\n",
    "shared_embedding_layer = Embedding(input_dim=n_words, output_dim=128)(input_seq)\n",
    "shared_lstm_layer1 = Bidirectional(LSTM(128, return_sequences=True))(shared_embedding_layer)\n",
    "shared_lstm_layer2 = Bidirectional(LSTM(128, return_sequences=True))(shared_lstm_layer1)\n",
    "shared_lstm_layer3 = Bidirectional(LSTM(128, return_sequences=True))(shared_lstm_layer2)\n",
    "shared_lstm_layer4 = Bidirectional(LSTM(128, return_sequences=True))(shared_lstm_layer3)\n",
    "shared_lstm_layer5 = Bidirectional(LSTM(128, return_sequences=True))(shared_lstm_layer4)\n",
    "\n",
    "# Outputs\n",
    "output_mfe = Dense(1, activation='linear', name='MFE')(shared_lstm_layer5[:, -1, :])  # Take only the last output\n",
    "output_hairpins = Dense(1, activation='linear', name='Hairpins')(shared_lstm_layer5[:, -1, :])  # Take only the last output\n",
    "output_seq = TimeDistributed(Dense(4, activation='softmax'), name='Struct')(shared_lstm_layer5)\n",
    "\n",
    "# Define the model\n",
    "model = Model(inputs=input_seq, outputs=[output_mfe, output_hairpins, output_seq])\n",
    "model.compile(optimizer='adam',\n",
    "              loss={'MFE': 'mean_squared_error', 'Hairpins': 'mean_squared_error', 'Struct': weighted_categorical_crossentropy},\n",
    "              loss_weights={'MFE': 1.0, 'Hairpins': 2.0, 'Struct': 2.0})\n",
    "model.summary()"
   ]
  },
  {
   "cell_type": "code",
   "execution_count": 11,
   "id": "5effbc43",
   "metadata": {},
   "outputs": [
    {
     "name": "stdout",
     "output_type": "stream",
     "text": [
      "Epoch 1/40\n"
     ]
    },
    {
     "name": "stderr",
     "output_type": "stream",
     "text": [
      "2024-03-30 02:03:39.662601: I external/local_xla/xla/stream_executor/cuda/cuda_dnn.cc:454] Loaded cuDNN version 8902\n",
      "2024-03-30 02:03:40.706864: I external/local_xla/xla/service/service.cc:168] XLA service 0x7f3b140d16a0 initialized for platform CUDA (this does not guarantee that XLA will be used). Devices:\n",
      "2024-03-30 02:03:40.706894: I external/local_xla/xla/service/service.cc:176]   StreamExecutor device (0): NVIDIA GeForce RTX 4090, Compute Capability 8.9\n",
      "2024-03-30 02:03:40.814124: I tensorflow/compiler/mlir/tensorflow/utils/dump_mlir_util.cc:269] disabling MLIR crash reproducer, set env var `MLIR_CRASH_REPRODUCER_DIRECTORY` to enable.\n",
      "WARNING: All log messages before absl::InitializeLog() is called are written to STDERR\n",
      "I0000 00:00:1711778621.004820    6078 device_compiler.h:186] Compiled cluster using XLA!  This line is logged at most once for the lifetime of the process.\n"
     ]
    },
    {
     "name": "stdout",
     "output_type": "stream",
     "text": [
      "19532/19532 [==============================] - 1038s 53ms/step - loss: 2.5842 - MFE_loss: 1.1169 - Hairpins_loss: 0.1954 - Struct_loss: 0.5383 - val_loss: 1.7321 - val_MFE_loss: 0.5945 - val_Hairpins_loss: 0.1533 - val_Struct_loss: 0.4155\n",
      "Epoch 2/40\n",
      "19532/19532 [==============================] - 1016s 52ms/step - loss: 1.5297 - MFE_loss: 0.4940 - Hairpins_loss: 0.1408 - Struct_loss: 0.3771 - val_loss: 1.3276 - val_MFE_loss: 0.3904 - val_Hairpins_loss: 0.1264 - val_Struct_loss: 0.3422\n",
      "Epoch 3/40\n",
      "19532/19532 [==============================] - 1007s 52ms/step - loss: 1.2404 - MFE_loss: 0.3493 - Hairpins_loss: 0.1211 - Struct_loss: 0.3245 - val_loss: 1.1059 - val_MFE_loss: 0.2882 - val_Hairpins_loss: 0.1086 - val_Struct_loss: 0.3002\n",
      "Epoch 4/40\n",
      "19532/19532 [==============================] - 1006s 52ms/step - loss: 1.0905 - MFE_loss: 0.2823 - Hairpins_loss: 0.1093 - Struct_loss: 0.2949 - val_loss: 0.9938 - val_MFE_loss: 0.2395 - val_Hairpins_loss: 0.0994 - val_Struct_loss: 0.2778\n",
      "Epoch 5/40\n",
      "19532/19532 [==============================] - 1006s 51ms/step - loss: 0.9890 - MFE_loss: 0.2405 - Hairpins_loss: 0.1002 - Struct_loss: 0.2740 - val_loss: 0.9146 - val_MFE_loss: 0.2095 - val_Hairpins_loss: 0.0923 - val_Struct_loss: 0.2602\n",
      "Epoch 6/40\n",
      "19532/19532 [==============================] - 1007s 52ms/step - loss: 0.9169 - MFE_loss: 0.2126 - Hairpins_loss: 0.0934 - Struct_loss: 0.2588 - val_loss: 0.8668 - val_MFE_loss: 0.1974 - val_Hairpins_loss: 0.0862 - val_Struct_loss: 0.2485\n",
      "Epoch 7/40\n",
      "19532/19532 [==============================] - 1007s 52ms/step - loss: 0.8622 - MFE_loss: 0.1928 - Hairpins_loss: 0.0879 - Struct_loss: 0.2468 - val_loss: 0.8010 - val_MFE_loss: 0.1706 - val_Hairpins_loss: 0.0803 - val_Struct_loss: 0.2348\n",
      "Epoch 8/40\n",
      "19532/19532 [==============================] - 1008s 52ms/step - loss: 0.8170 - MFE_loss: 0.1772 - Hairpins_loss: 0.0828 - Struct_loss: 0.2370 - val_loss: 0.7726 - val_MFE_loss: 0.1661 - val_Hairpins_loss: 0.0755 - val_Struct_loss: 0.2277\n",
      "Epoch 9/40\n",
      "19532/19532 [==============================] - 1008s 52ms/step - loss: 0.7808 - MFE_loss: 0.1656 - Hairpins_loss: 0.0786 - Struct_loss: 0.2290 - val_loss: 0.7314 - val_MFE_loss: 0.1497 - val_Hairpins_loss: 0.0714 - val_Struct_loss: 0.2195\n",
      "Epoch 10/40\n",
      "19532/19532 [==============================] - 1009s 52ms/step - loss: 0.7499 - MFE_loss: 0.1554 - Hairpins_loss: 0.0751 - Struct_loss: 0.2221 - val_loss: 0.7682 - val_MFE_loss: 0.1833 - val_Hairpins_loss: 0.0722 - val_Struct_loss: 0.2202\n",
      "Epoch 11/40\n",
      "19532/19532 [==============================] - 1008s 52ms/step - loss: 0.7237 - MFE_loss: 0.1478 - Hairpins_loss: 0.0718 - Struct_loss: 0.2162 - val_loss: 0.6719 - val_MFE_loss: 0.1323 - val_Hairpins_loss: 0.0643 - val_Struct_loss: 0.2054\n",
      "Epoch 12/40\n",
      "19532/19532 [==============================] - 1008s 52ms/step - loss: 0.7004 - MFE_loss: 0.1414 - Hairpins_loss: 0.0686 - Struct_loss: 0.2109 - val_loss: 0.6529 - val_MFE_loss: 0.1269 - val_Hairpins_loss: 0.0629 - val_Struct_loss: 0.2001\n",
      "Epoch 13/40\n",
      "19532/19532 [==============================] - 1008s 52ms/step - loss: 0.6802 - MFE_loss: 0.1357 - Hairpins_loss: 0.0660 - Struct_loss: 0.2062 - val_loss: 0.6357 - val_MFE_loss: 0.1224 - val_Hairpins_loss: 0.0596 - val_Struct_loss: 0.1971\n",
      "Epoch 14/40\n",
      "19532/19532 [==============================] - 1008s 52ms/step - loss: 0.6623 - MFE_loss: 0.1309 - Hairpins_loss: 0.0637 - Struct_loss: 0.2020 - val_loss: 0.6261 - val_MFE_loss: 0.1215 - val_Hairpins_loss: 0.0577 - val_Struct_loss: 0.1946\n",
      "Epoch 15/40\n",
      "19532/19532 [==============================] - 1008s 52ms/step - loss: 0.6453 - MFE_loss: 0.1263 - Hairpins_loss: 0.0614 - Struct_loss: 0.1981 - val_loss: 0.6090 - val_MFE_loss: 0.1170 - val_Hairpins_loss: 0.0562 - val_Struct_loss: 0.1898\n",
      "Epoch 16/40\n",
      "19532/19532 [==============================] - 1008s 52ms/step - loss: 0.6310 - MFE_loss: 0.1229 - Hairpins_loss: 0.0594 - Struct_loss: 0.1946 - val_loss: 0.5968 - val_MFE_loss: 0.1145 - val_Hairpins_loss: 0.0537 - val_Struct_loss: 0.1874\n",
      "Epoch 17/40\n",
      "19532/19532 [==============================] - 1009s 52ms/step - loss: 0.6170 - MFE_loss: 0.1191 - Hairpins_loss: 0.0575 - Struct_loss: 0.1914 - val_loss: 0.5783 - val_MFE_loss: 0.1092 - val_Hairpins_loss: 0.0519 - val_Struct_loss: 0.1827\n",
      "Epoch 18/40\n",
      "19532/19532 [==============================] - 1008s 52ms/step - loss: 0.6038 - MFE_loss: 0.1164 - Hairpins_loss: 0.0555 - Struct_loss: 0.1881 - val_loss: 0.5626 - val_MFE_loss: 0.1064 - val_Hairpins_loss: 0.0493 - val_Struct_loss: 0.1788\n",
      "Epoch 19/40\n",
      "19532/19532 [==============================] - 1007s 52ms/step - loss: 0.5922 - MFE_loss: 0.1137 - Hairpins_loss: 0.0539 - Struct_loss: 0.1854 - val_loss: 0.5514 - val_MFE_loss: 0.1036 - val_Hairpins_loss: 0.0477 - val_Struct_loss: 0.1762\n",
      "Epoch 20/40\n",
      "19532/19532 [==============================] - 1006s 52ms/step - loss: 0.5819 - MFE_loss: 0.1114 - Hairpins_loss: 0.0524 - Struct_loss: 0.1828 - val_loss: 0.5445 - val_MFE_loss: 0.1021 - val_Hairpins_loss: 0.0473 - val_Struct_loss: 0.1740\n",
      "Epoch 21/40\n",
      "19532/19532 [==============================] - 1005s 51ms/step - loss: 0.5709 - MFE_loss: 0.1089 - Hairpins_loss: 0.0508 - Struct_loss: 0.1802 - val_loss: 0.5397 - val_MFE_loss: 0.1026 - val_Hairpins_loss: 0.0464 - val_Struct_loss: 0.1722\n",
      "Epoch 22/40\n",
      "19532/19532 [==============================] - 1007s 52ms/step - loss: 0.5611 - MFE_loss: 0.1067 - Hairpins_loss: 0.0495 - Struct_loss: 0.1777 - val_loss: 0.5294 - val_MFE_loss: 0.1002 - val_Hairpins_loss: 0.0439 - val_Struct_loss: 0.1707\n",
      "Epoch 23/40\n",
      "19532/19532 [==============================] - 1006s 52ms/step - loss: 0.5519 - MFE_loss: 0.1045 - Hairpins_loss: 0.0481 - Struct_loss: 0.1756 - val_loss: 0.5200 - val_MFE_loss: 0.0972 - val_Hairpins_loss: 0.0432 - val_Struct_loss: 0.1682\n",
      "Epoch 24/40\n",
      "19532/19532 [==============================] - 1006s 51ms/step - loss: 0.5432 - MFE_loss: 0.1030 - Hairpins_loss: 0.0469 - Struct_loss: 0.1733 - val_loss: 0.5112 - val_MFE_loss: 0.0984 - val_Hairpins_loss: 0.0415 - val_Struct_loss: 0.1649\n",
      "Epoch 25/40\n",
      "19532/19532 [==============================] - 1007s 52ms/step - loss: 0.5363 - MFE_loss: 0.1016 - Hairpins_loss: 0.0458 - Struct_loss: 0.1716 - val_loss: 0.5021 - val_MFE_loss: 0.0945 - val_Hairpins_loss: 0.0405 - val_Struct_loss: 0.1633\n",
      "Epoch 26/40\n",
      "19532/19532 [==============================] - 1006s 52ms/step - loss: 0.5287 - MFE_loss: 0.1000 - Hairpins_loss: 0.0448 - Struct_loss: 0.1696 - val_loss: 0.4990 - val_MFE_loss: 0.0933 - val_Hairpins_loss: 0.0401 - val_Struct_loss: 0.1628\n",
      "Epoch 27/40\n",
      "19532/19532 [==============================] - 1007s 52ms/step - loss: 0.5206 - MFE_loss: 0.0983 - Hairpins_loss: 0.0435 - Struct_loss: 0.1676 - val_loss: 0.4877 - val_MFE_loss: 0.0908 - val_Hairpins_loss: 0.0386 - val_Struct_loss: 0.1598\n",
      "Epoch 28/40\n",
      "19532/19532 [==============================] - 1005s 51ms/step - loss: 0.5142 - MFE_loss: 0.0971 - Hairpins_loss: 0.0427 - Struct_loss: 0.1659 - val_loss: 0.4843 - val_MFE_loss: 0.0896 - val_Hairpins_loss: 0.0385 - val_Struct_loss: 0.1589\n",
      "Epoch 29/40\n",
      "19532/19532 [==============================] - 1006s 52ms/step - loss: 0.5076 - MFE_loss: 0.0959 - Hairpins_loss: 0.0416 - Struct_loss: 0.1642 - val_loss: 0.4717 - val_MFE_loss: 0.0876 - val_Hairpins_loss: 0.0359 - val_Struct_loss: 0.1561\n",
      "Epoch 30/40\n",
      "19532/19532 [==============================] - 1006s 52ms/step - loss: 0.5006 - MFE_loss: 0.0942 - Hairpins_loss: 0.0406 - Struct_loss: 0.1625 - val_loss: 0.4687 - val_MFE_loss: 0.0866 - val_Hairpins_loss: 0.0360 - val_Struct_loss: 0.1551\n",
      "Epoch 31/40\n",
      "19532/19532 [==============================] - 1005s 51ms/step - loss: 0.4961 - MFE_loss: 0.0936 - Hairpins_loss: 0.0400 - Struct_loss: 0.1613 - val_loss: 0.4724 - val_MFE_loss: 0.0965 - val_Hairpins_loss: 0.0349 - val_Struct_loss: 0.1530\n",
      "Epoch 32/40\n",
      "19532/19532 [==============================] - 1006s 52ms/step - loss: 0.4898 - MFE_loss: 0.0922 - Hairpins_loss: 0.0392 - Struct_loss: 0.1596 - val_loss: 0.4633 - val_MFE_loss: 0.0890 - val_Hairpins_loss: 0.0346 - val_Struct_loss: 0.1526\n",
      "Epoch 33/40\n",
      "19532/19532 [==============================] - 1006s 52ms/step - loss: 0.4840 - MFE_loss: 0.0913 - Hairpins_loss: 0.0382 - Struct_loss: 0.1581 - val_loss: 0.4638 - val_MFE_loss: 0.0880 - val_Hairpins_loss: 0.0356 - val_Struct_loss: 0.1524\n",
      "Epoch 34/40\n",
      "19532/19532 [==============================] - 1006s 52ms/step - loss: 0.4798 - MFE_loss: 0.0907 - Hairpins_loss: 0.0375 - Struct_loss: 0.1570 - val_loss: 0.4508 - val_MFE_loss: 0.0843 - val_Hairpins_loss: 0.0331 - val_Struct_loss: 0.1502\n",
      "Epoch 35/40\n",
      "19532/19532 [==============================] - 1007s 52ms/step - loss: 0.4744 - MFE_loss: 0.0895 - Hairpins_loss: 0.0368 - Struct_loss: 0.1556 - val_loss: 0.4460 - val_MFE_loss: 0.0831 - val_Hairpins_loss: 0.0328 - val_Struct_loss: 0.1486\n",
      "Epoch 36/40\n",
      "19532/19532 [==============================] - 1006s 52ms/step - loss: 0.4695 - MFE_loss: 0.0886 - Hairpins_loss: 0.0362 - Struct_loss: 0.1543 - val_loss: 0.4430 - val_MFE_loss: 0.0829 - val_Hairpins_loss: 0.0324 - val_Struct_loss: 0.1476\n",
      "Epoch 37/40\n",
      "19532/19532 [==============================] - 1006s 52ms/step - loss: 0.4650 - MFE_loss: 0.0879 - Hairpins_loss: 0.0355 - Struct_loss: 0.1531 - val_loss: 0.4367 - val_MFE_loss: 0.0813 - val_Hairpins_loss: 0.0312 - val_Struct_loss: 0.1464\n",
      "Epoch 38/40\n",
      "19532/19532 [==============================] - 1057s 54ms/step - loss: 0.4612 - MFE_loss: 0.0872 - Hairpins_loss: 0.0349 - Struct_loss: 0.1521 - val_loss: 0.4403 - val_MFE_loss: 0.0846 - val_Hairpins_loss: 0.0312 - val_Struct_loss: 0.1466\n",
      "Epoch 39/40\n",
      "19532/19532 [==============================] - 1029s 53ms/step - loss: 0.4568 - MFE_loss: 0.0864 - Hairpins_loss: 0.0344 - Struct_loss: 0.1508 - val_loss: 0.4342 - val_MFE_loss: 0.0821 - val_Hairpins_loss: 0.0310 - val_Struct_loss: 0.1450\n",
      "Epoch 40/40\n",
      "19532/19532 [==============================] - 1060s 54ms/step - loss: 0.4536 - MFE_loss: 0.0859 - Hairpins_loss: 0.0339 - Struct_loss: 0.1499 - val_loss: 0.4282 - val_MFE_loss: 0.0803 - val_Hairpins_loss: 0.0304 - val_Struct_loss: 0.1436\n"
     ]
    }
   ],
   "source": [
    "# Train and save model\n",
    "\n",
    "early_stopping = EarlyStopping(monitor='val_loss', patience=3, restore_best_weights=True)\n",
    "\n",
    "his = model.fit(input_data_train,\n",
    "          [energies_train, hairpins_train, struct_train],\n",
    "          batch_size=128,\n",
    "          epochs=40,\n",
    "          validation_data=(input_data_valid, [energies_valid, hairpins_valid, struct_valid]),\n",
    "          verbose=1,\n",
    "          callbacks=[early_stopping])\n",
    "\n",
    "model.save('full_2p5M.keras')"
   ]
  },
  {
   "cell_type": "code",
   "execution_count": 9,
   "id": "f94bb349",
   "metadata": {},
   "outputs": [
    {
     "name": "stdout",
     "output_type": "stream",
     "text": [
      "Model: \"model_1\"\n",
      "__________________________________________________________________________________________________\n",
      " Layer (type)                Output Shape                 Param #   Connected to                  \n",
      "==================================================================================================\n",
      " input_2 (InputLayer)        [(None, 50)]                 0         []                            \n",
      "                                                                                                  \n",
      " embedding_1 (Embedding)     (None, 50, 128)              640       ['input_2[0][0]']             \n",
      "                                                                                                  \n",
      " bidirectional_5 (Bidirecti  (None, 50, 256)              263168    ['embedding_1[0][0]']         \n",
      " onal)                                                                                            \n",
      "                                                                                                  \n",
      " bidirectional_6 (Bidirecti  (None, 50, 256)              394240    ['bidirectional_5[0][0]']     \n",
      " onal)                                                                                            \n",
      "                                                                                                  \n",
      " bidirectional_7 (Bidirecti  (None, 50, 256)              394240    ['bidirectional_6[0][0]']     \n",
      " onal)                                                                                            \n",
      "                                                                                                  \n",
      " bidirectional_8 (Bidirecti  (None, 50, 256)              394240    ['bidirectional_7[0][0]']     \n",
      " onal)                                                                                            \n",
      "                                                                                                  \n",
      " bidirectional_9 (Bidirecti  (None, 256)                  394240    ['bidirectional_8[0][0]']     \n",
      " onal)                                                                                            \n",
      "                                                                                                  \n",
      " MFE (Dense)                 (None, 1)                    257       ['bidirectional_9[0][0]']     \n",
      "                                                                                                  \n",
      " Hairpins (Dense)            (None, 1)                    257       ['bidirectional_9[0][0]']     \n",
      "                                                                                                  \n",
      "==================================================================================================\n",
      "Total params: 1841282 (7.02 MB)\n",
      "Trainable params: 1841282 (7.02 MB)\n",
      "Non-trainable params: 0 (0.00 Byte)\n",
      "__________________________________________________________________________________________________\n"
     ]
    }
   ],
   "source": [
    "# Shared layers\n",
    "input_seq = Input(shape=(maxlen_seq,))\n",
    "shared_embedding_layer = Embedding(input_dim=n_words, output_dim=128)(input_seq)\n",
    "shared_lstm_layer1 = Bidirectional(LSTM(128, return_sequences=True))(shared_embedding_layer)\n",
    "shared_lstm_layer2 = Bidirectional(LSTM(128, return_sequences=True))(shared_lstm_layer1)\n",
    "shared_lstm_layer3 = Bidirectional(LSTM(128, return_sequences=True))(shared_lstm_layer2)\n",
    "shared_lstm_layer4 = Bidirectional(LSTM(128, return_sequences=True))(shared_lstm_layer3)\n",
    "shared_lstm_layer5 = Bidirectional(LSTM(128))(shared_lstm_layer4)\n",
    "\n",
    "# Outputs\n",
    "output_mfe = Dense(1, activation='linear', name='MFE')(shared_lstm_layer5)\n",
    "output_hairpins = Dense(1, activation='linear', name='Hairpins')(shared_lstm_layer5)\n",
    "\n",
    "# Define the model\n",
    "model = Model(inputs=input_seq, outputs=[output_mfe, output_hairpins])\n",
    "model.compile(optimizer='adam',\n",
    "              loss={'MFE': 'mean_squared_error', 'Hairpins': 'mean_squared_error'},\n",
    "              loss_weights={'MFE': 1.0, 'Hairpins': 2.0})\n",
    "model.summary()"
   ]
  },
  {
   "cell_type": "code",
   "execution_count": 14,
   "id": "2a7b7ed0",
   "metadata": {},
   "outputs": [
    {
     "name": "stdout",
     "output_type": "stream",
     "text": [
      "Epoch 1/40\n",
      "19532/19532 [==============================] - 782s 40ms/step - loss: 0.3269 - MFE_loss: 0.1722 - Hairpins_loss: 0.0774 - val_loss: 0.3078 - val_MFE_loss: 0.1636 - val_Hairpins_loss: 0.0721\n",
      "Epoch 2/40\n",
      "19532/19532 [==============================] - 736s 38ms/step - loss: 0.3212 - MFE_loss: 0.1687 - Hairpins_loss: 0.0762 - val_loss: 0.3064 - val_MFE_loss: 0.1625 - val_Hairpins_loss: 0.0719\n",
      "Epoch 3/40\n",
      "19532/19532 [==============================] - 753s 39ms/step - loss: 0.3158 - MFE_loss: 0.1660 - Hairpins_loss: 0.0749 - val_loss: 0.2889 - val_MFE_loss: 0.1515 - val_Hairpins_loss: 0.0687\n",
      "Epoch 4/40\n",
      "19532/19532 [==============================] - 780s 40ms/step - loss: 0.3104 - MFE_loss: 0.1633 - Hairpins_loss: 0.0736 - val_loss: 0.2892 - val_MFE_loss: 0.1496 - val_Hairpins_loss: 0.0698\n",
      "Epoch 5/40\n",
      "19532/19532 [==============================] - 741s 38ms/step - loss: 0.3051 - MFE_loss: 0.1602 - Hairpins_loss: 0.0724 - val_loss: 0.2837 - val_MFE_loss: 0.1489 - val_Hairpins_loss: 0.0674\n",
      "Epoch 6/40\n",
      "19532/19532 [==============================] - 738s 38ms/step - loss: 0.3002 - MFE_loss: 0.1575 - Hairpins_loss: 0.0713 - val_loss: 0.2895 - val_MFE_loss: 0.1507 - val_Hairpins_loss: 0.0694\n",
      "Epoch 7/40\n",
      "19532/19532 [==============================] - 736s 38ms/step - loss: 0.2952 - MFE_loss: 0.1550 - Hairpins_loss: 0.0701 - val_loss: 0.2778 - val_MFE_loss: 0.1469 - val_Hairpins_loss: 0.0655\n",
      "Epoch 8/40\n",
      "19532/19532 [==============================] - 736s 38ms/step - loss: 0.2899 - MFE_loss: 0.1523 - Hairpins_loss: 0.0688 - val_loss: 0.2701 - val_MFE_loss: 0.1422 - val_Hairpins_loss: 0.0640\n",
      "Epoch 9/40\n",
      "19532/19532 [==============================] - 739s 38ms/step - loss: 0.2861 - MFE_loss: 0.1502 - Hairpins_loss: 0.0680 - val_loss: 0.2619 - val_MFE_loss: 0.1394 - val_Hairpins_loss: 0.0613\n",
      "Epoch 10/40\n",
      "19532/19532 [==============================] - 738s 38ms/step - loss: 0.2819 - MFE_loss: 0.1483 - Hairpins_loss: 0.0668 - val_loss: 0.2581 - val_MFE_loss: 0.1361 - val_Hairpins_loss: 0.0610\n",
      "Epoch 11/40\n",
      "19532/19532 [==============================] - 991s 51ms/step - loss: 0.2777 - MFE_loss: 0.1462 - Hairpins_loss: 0.0657 - val_loss: 0.2550 - val_MFE_loss: 0.1342 - val_Hairpins_loss: 0.0604\n",
      "Epoch 12/40\n",
      "19532/19532 [==============================] - 1059s 54ms/step - loss: 0.2745 - MFE_loss: 0.1445 - Hairpins_loss: 0.0650 - val_loss: 0.2470 - val_MFE_loss: 0.1304 - val_Hairpins_loss: 0.0583\n",
      "Epoch 13/40\n",
      "19532/19532 [==============================] - 901s 46ms/step - loss: 0.2708 - MFE_loss: 0.1428 - Hairpins_loss: 0.0640 - val_loss: 0.2482 - val_MFE_loss: 0.1311 - val_Hairpins_loss: 0.0586\n",
      "Epoch 14/40\n",
      "19532/19532 [==============================] - 864s 44ms/step - loss: 0.2663 - MFE_loss: 0.1403 - Hairpins_loss: 0.0630 - val_loss: 0.2531 - val_MFE_loss: 0.1379 - val_Hairpins_loss: 0.0576\n",
      "Epoch 15/40\n",
      "19532/19532 [==============================] - 1050s 54ms/step - loss: 0.2638 - MFE_loss: 0.1394 - Hairpins_loss: 0.0622 - val_loss: 0.2424 - val_MFE_loss: 0.1298 - val_Hairpins_loss: 0.0563\n",
      "Epoch 16/40\n",
      "19532/19532 [==============================] - 1013s 52ms/step - loss: 0.2607 - MFE_loss: 0.1379 - Hairpins_loss: 0.0614 - val_loss: 0.2447 - val_MFE_loss: 0.1289 - val_Hairpins_loss: 0.0579\n",
      "Epoch 17/40\n",
      "19532/19532 [==============================] - 801s 41ms/step - loss: 0.2568 - MFE_loss: 0.1358 - Hairpins_loss: 0.0605 - val_loss: 0.2361 - val_MFE_loss: 0.1255 - val_Hairpins_loss: 0.0553\n",
      "Epoch 18/40\n",
      "19532/19532 [==============================] - 1102s 56ms/step - loss: 0.2535 - MFE_loss: 0.1345 - Hairpins_loss: 0.0595 - val_loss: 0.2275 - val_MFE_loss: 0.1212 - val_Hairpins_loss: 0.0532\n",
      "Epoch 19/40\n",
      "19532/19532 [==============================] - 1052s 54ms/step - loss: 0.2502 - MFE_loss: 0.1327 - Hairpins_loss: 0.0588 - val_loss: 0.2291 - val_MFE_loss: 0.1231 - val_Hairpins_loss: 0.0530\n",
      "Epoch 20/40\n",
      "19532/19532 [==============================] - 751s 38ms/step - loss: 0.2486 - MFE_loss: 0.1320 - Hairpins_loss: 0.0583 - val_loss: 0.2272 - val_MFE_loss: 0.1213 - val_Hairpins_loss: 0.0529\n",
      "Epoch 21/40\n",
      "19532/19532 [==============================] - 780s 40ms/step - loss: 0.2455 - MFE_loss: 0.1305 - Hairpins_loss: 0.0575 - val_loss: 0.2269 - val_MFE_loss: 0.1224 - val_Hairpins_loss: 0.0522\n",
      "Epoch 22/40\n",
      "19532/19532 [==============================] - 738s 38ms/step - loss: 0.2419 - MFE_loss: 0.1288 - Hairpins_loss: 0.0565 - val_loss: 0.2216 - val_MFE_loss: 0.1193 - val_Hairpins_loss: 0.0511\n",
      "Epoch 23/40\n",
      "19532/19532 [==============================] - 785s 40ms/step - loss: 0.2388 - MFE_loss: 0.1273 - Hairpins_loss: 0.0557 - val_loss: 0.2194 - val_MFE_loss: 0.1177 - val_Hairpins_loss: 0.0509\n",
      "Epoch 24/40\n",
      "19532/19532 [==============================] - 761s 39ms/step - loss: 0.2362 - MFE_loss: 0.1262 - Hairpins_loss: 0.0550 - val_loss: 0.2165 - val_MFE_loss: 0.1174 - val_Hairpins_loss: 0.0496\n",
      "Epoch 25/40\n",
      "19532/19532 [==============================] - 744s 38ms/step - loss: 0.2347 - MFE_loss: 0.1257 - Hairpins_loss: 0.0545 - val_loss: 0.2181 - val_MFE_loss: 0.1184 - val_Hairpins_loss: 0.0499\n",
      "Epoch 26/40\n",
      "19532/19532 [==============================] - 735s 38ms/step - loss: 0.2311 - MFE_loss: 0.1240 - Hairpins_loss: 0.0536 - val_loss: 0.2143 - val_MFE_loss: 0.1154 - val_Hairpins_loss: 0.0495\n",
      "Epoch 27/40\n",
      "19532/19532 [==============================] - 738s 38ms/step - loss: 0.2289 - MFE_loss: 0.1228 - Hairpins_loss: 0.0530 - val_loss: 0.2116 - val_MFE_loss: 0.1144 - val_Hairpins_loss: 0.0486\n",
      "Epoch 28/40\n",
      "19532/19532 [==============================] - 736s 38ms/step - loss: 0.2267 - MFE_loss: 0.1219 - Hairpins_loss: 0.0524 - val_loss: 0.2173 - val_MFE_loss: 0.1174 - val_Hairpins_loss: 0.0500\n",
      "Epoch 29/40\n",
      "19532/19532 [==============================] - 735s 38ms/step - loss: 0.2241 - MFE_loss: 0.1209 - Hairpins_loss: 0.0516 - val_loss: 0.2064 - val_MFE_loss: 0.1123 - val_Hairpins_loss: 0.0471\n",
      "Epoch 30/40\n",
      "19532/19532 [==============================] - 782s 40ms/step - loss: 0.2217 - MFE_loss: 0.1199 - Hairpins_loss: 0.0509 - val_loss: 0.2016 - val_MFE_loss: 0.1103 - val_Hairpins_loss: 0.0457\n",
      "Epoch 31/40\n",
      "19532/19532 [==============================] - 792s 41ms/step - loss: 0.2197 - MFE_loss: 0.1188 - Hairpins_loss: 0.0504 - val_loss: 0.2079 - val_MFE_loss: 0.1127 - val_Hairpins_loss: 0.0476\n",
      "Epoch 32/40\n",
      "19532/19532 [==============================] - 759s 39ms/step - loss: 0.2182 - MFE_loss: 0.1182 - Hairpins_loss: 0.0500 - val_loss: 0.1993 - val_MFE_loss: 0.1082 - val_Hairpins_loss: 0.0456\n",
      "Epoch 33/40\n",
      "19532/19532 [==============================] - 738s 38ms/step - loss: 0.2149 - MFE_loss: 0.1168 - Hairpins_loss: 0.0490 - val_loss: 0.1919 - val_MFE_loss: 0.1056 - val_Hairpins_loss: 0.0431\n",
      "Epoch 34/40\n",
      "19532/19532 [==============================] - 735s 38ms/step - loss: 0.2132 - MFE_loss: 0.1159 - Hairpins_loss: 0.0487 - val_loss: 0.1961 - val_MFE_loss: 0.1084 - val_Hairpins_loss: 0.0438\n",
      "Epoch 35/40\n",
      "19532/19532 [==============================] - 794s 41ms/step - loss: 0.2118 - MFE_loss: 0.1156 - Hairpins_loss: 0.0481 - val_loss: 0.1966 - val_MFE_loss: 0.1092 - val_Hairpins_loss: 0.0437\n",
      "Epoch 36/40\n",
      "19532/19532 [==============================] - 730s 37ms/step - loss: 0.2098 - MFE_loss: 0.1147 - Hairpins_loss: 0.0476 - val_loss: 0.1930 - val_MFE_loss: 0.1072 - val_Hairpins_loss: 0.0429\n"
     ]
    }
   ],
   "source": [
    "# Train and save the model\n",
    "early_stopping = EarlyStopping(monitor='val_loss', patience=3, restore_best_weights=True)\n",
    "\n",
    "his = model.fit(input_data_train,\n",
    "          [energies_train, hairpins_train],\n",
    "          batch_size=128,\n",
    "          epochs=40,\n",
    "          validation_data=(input_data_valid, [energies_valid, hairpins_valid]),\n",
    "          verbose=1,\n",
    "          callbacks=[early_stopping])\n",
    "\n",
    "model.save('partial_2p5M.keras')"
   ]
  }
 ],
 "metadata": {
  "kernelspec": {
   "display_name": "Python 3 (ipykernel)",
   "language": "python",
   "name": "python3"
  },
  "language_info": {
   "codemirror_mode": {
    "name": "ipython",
    "version": 3
   },
   "file_extension": ".py",
   "mimetype": "text/x-python",
   "name": "python",
   "nbconvert_exporter": "python",
   "pygments_lexer": "ipython3",
   "version": "3.10.12"
  }
 },
 "nbformat": 4,
 "nbformat_minor": 5
}
